{
 "cells": [
  {
   "cell_type": "code",
   "execution_count": 1,
   "metadata": {},
   "outputs": [],
   "source": [
    "from keras.optimizers import Adam\n",
    "from keras.losses import MeanSquaredError\n",
    "from keras.metrics import RootMeanSquaredError\n",
    "from sklearn.model_selection import train_test_split\n",
    "from sklearn.preprocessing import MinMaxScaler\n",
    "import numpy as np\n",
    "import matplotlib.pyplot as plt"
   ]
  },
  {
   "cell_type": "code",
   "execution_count": 2,
   "metadata": {},
   "outputs": [],
   "source": [
    "import src.data.preprocessor2 as pre\n",
    "import src.data.datasets2 as data\n",
    "from src.model.network import create_model, quantile_loss, create_MQDCNN, MultiQuantileLoss\n",
    "from src.utils import compute_coverage_len, plot_quantiles, compute_quantile, compute_quantiles_nex"
   ]
  },
  {
   "cell_type": "code",
   "execution_count": 3,
   "metadata": {},
   "outputs": [],
   "source": [
    "import os\n",
    "#in order not to use GPU\n",
    "os.environ[\"CUDA_VISIBLE_DEVICES\"]=\"-1\"  "
   ]
  },
  {
   "cell_type": "code",
   "execution_count": 10,
   "metadata": {},
   "outputs": [],
   "source": [
    "removable_cols = [\"sm01\", \"sm05\", \"sm06\", \"sm10\", \"sm16\", \"sm18\", \"sm19\"]\n",
    "ignore_columns = [\"time\", \"os1\", \"os2\", \"os3\"]\n",
    "\n",
    "dataset = data.get_dataset(\"CMAPSS4\", MinMaxScaler(feature_range=(-1, 1)))\n",
    "split_dataset = pre.split_dataset(dataset, calval_size=0.15, random_state=0)\n",
    "proc_dataset = pre.preprocess_split(split_dataset, scaler_factory=dataset[\"scaler_factory\"], window_size=dataset[\"window_size\"], removable_cols=removable_cols, ignore_columns=ignore_columns)"
   ]
  },
  {
   "cell_type": "code",
   "execution_count": 11,
   "metadata": {},
   "outputs": [
    {
     "data": {
      "text/plain": [
       "array([  1,   2,   3,   4,   5,   7,   8,  10,  11,  12,  13,  14,  15,\n",
       "        16,  17,  18,  19,  20,  21,  22,  24,  25,  26,  27,  28,  29,\n",
       "        30,  31,  32,  33,  34,  35,  36,  37,  39,  40,  41,  42,  43,\n",
       "        44,  47,  48,  49,  50,  51,  52,  53,  54,  55,  57,  58,  59,\n",
       "        60,  61,  62,  63,  66,  67,  68,  69,  70,  71,  72,  73,  75,\n",
       "        76,  78,  79,  80,  81,  82,  83,  85,  86,  87,  88,  89,  91,\n",
       "        92,  94,  95,  96,  98,  99, 100, 101, 102, 103, 104, 105, 106,\n",
       "       107, 108, 109, 111, 113, 114, 115, 116, 118, 120, 121, 122, 123,\n",
       "       124, 125, 127, 128, 129, 131, 132, 133, 134, 135, 137, 138, 139,\n",
       "       140, 141, 142, 143, 144, 145, 147, 148, 149, 150, 152, 153, 154,\n",
       "       155, 156, 157, 158, 159, 161, 164, 165, 166, 167, 168, 170, 171,\n",
       "       172, 173, 174, 175, 176, 178, 179, 180, 181, 182, 183, 184, 185,\n",
       "       186, 187, 188, 189, 191, 192, 193, 194, 195, 196, 197, 198, 199,\n",
       "       200, 201, 205, 206, 207, 209, 210, 211, 212, 213, 215, 216, 217,\n",
       "       218, 220, 221, 222, 223, 224, 225, 226, 227, 228, 229, 231, 232,\n",
       "       233, 234, 235, 236, 237, 238, 239, 240, 241, 242, 243, 244, 245,\n",
       "       246, 247, 248], dtype=int64)"
      ]
     },
     "execution_count": 11,
     "metadata": {},
     "output_type": "execute_result"
    }
   ],
   "source": [
    "np.unique(split_dataset[\"train\"][\"id\"])"
   ]
  },
  {
   "cell_type": "code",
   "execution_count": 12,
   "metadata": {},
   "outputs": [
    {
     "data": {
      "text/plain": [
       "array([  6,   9,  23,  38,  45,  46,  56,  64,  65,  74,  77,  84,  90,\n",
       "        93,  97, 110, 112, 117, 119, 126, 130, 136, 146, 151, 160, 162,\n",
       "       163, 169, 177, 190, 202, 203, 204, 208, 214, 219, 230, 249],\n",
       "      dtype=int64)"
      ]
     },
     "execution_count": 12,
     "metadata": {},
     "output_type": "execute_result"
    }
   ],
   "source": [
    "np.unique(split_dataset[\"calval\"][\"id\"])"
   ]
  },
  {
   "cell_type": "code",
   "execution_count": 13,
   "metadata": {},
   "outputs": [
    {
     "data": {
      "text/plain": [
       "array([  1,   2,   3,   4,   5,   7,   8,  10,  11,  12,  13,  14,  15,\n",
       "        16,  17,  18,  19,  20,  21,  22,  24,  25,  26,  27,  28,  29,\n",
       "        30,  31,  32,  33,  34,  35,  36,  37,  39,  40,  41,  42,  43,\n",
       "        44,  47,  48,  49,  50,  51,  52,  53,  54,  55,  57,  58,  59,\n",
       "        60,  61,  62,  63,  66,  67,  68,  69,  70,  71,  72,  73,  75,\n",
       "        76,  78,  79,  80,  81,  82,  83,  85,  86,  87,  88,  89,  91,\n",
       "        92,  94,  95,  96,  98,  99, 100, 101, 102, 103, 104, 105, 106,\n",
       "       107, 108, 109, 111, 113, 114, 115, 116, 118, 120, 121, 122, 123,\n",
       "       124, 125, 127, 128, 129, 131, 132, 133, 134, 135, 137, 138, 139,\n",
       "       140, 141, 142, 143, 144, 145, 147, 148, 149, 150, 152, 153, 154,\n",
       "       155, 156, 157, 158, 159, 161, 164, 165, 166, 167, 168, 170, 171,\n",
       "       172, 173, 174, 175, 176, 178, 179, 180, 181, 182, 183, 184, 185,\n",
       "       186, 187, 188, 189, 191, 192, 193, 194, 195, 196, 197, 198, 199,\n",
       "       200, 201, 205, 206, 207, 209, 210, 211, 212, 213, 215, 216, 217,\n",
       "       218, 220, 221, 222, 223, 224, 225, 226, 227, 228, 229, 231, 232,\n",
       "       233, 234, 235, 236, 237, 238, 239, 240, 241, 242, 243, 244, 245,\n",
       "       246, 247, 248], dtype=int64)"
      ]
     },
     "execution_count": 13,
     "metadata": {},
     "output_type": "execute_result"
    }
   ],
   "source": [
    "np.unique(proc_dataset[\"train\"][\"id\"])"
   ]
  },
  {
   "cell_type": "code",
   "execution_count": 14,
   "metadata": {},
   "outputs": [
    {
     "data": {
      "text/plain": [
       "array([  6,   9,  23,  38,  45,  46,  56,  64,  65,  74,  77,  84,  90,\n",
       "        93,  97, 110, 112, 117, 119, 126, 130, 136, 146, 151, 160, 162,\n",
       "       163, 169, 177, 190, 202, 203, 204, 208, 214, 219, 230, 249],\n",
       "      dtype=int64)"
      ]
     },
     "execution_count": 14,
     "metadata": {},
     "output_type": "execute_result"
    }
   ],
   "source": [
    "np.unique(proc_dataset[\"calval\"][\"id\"])"
   ]
  },
  {
   "cell_type": "code",
   "execution_count": 15,
   "metadata": {},
   "outputs": [
    {
     "data": {
      "text/plain": [
       "(48666, 15, 14, 1)"
      ]
     },
     "execution_count": 15,
     "metadata": {},
     "output_type": "execute_result"
    }
   ],
   "source": [
    "proc_dataset[\"train\"][\"X\"].shape"
   ]
  },
  {
   "cell_type": "code",
   "execution_count": 17,
   "metadata": {},
   "outputs": [
    {
     "data": {
      "text/plain": [
       "(9097, 15, 14, 1)"
      ]
     },
     "execution_count": 17,
     "metadata": {},
     "output_type": "execute_result"
    }
   ],
   "source": [
    "proc_dataset[\"calval\"][\"X\"].shape"
   ]
  },
  {
   "cell_type": "code",
   "execution_count": 18,
   "metadata": {},
   "outputs": [
    {
     "data": {
      "text/plain": [
       "57763"
      ]
     },
     "execution_count": 18,
     "metadata": {},
     "output_type": "execute_result"
    }
   ],
   "source": [
    "proc_dataset[\"train\"][\"X\"].shape[0] + proc_dataset[\"calval\"][\"X\"].shape[0]"
   ]
  },
  {
   "cell_type": "markdown",
   "metadata": {},
   "source": [
    "# train an ordinary mean estimator for SCP and nex-SCP"
   ]
  },
  {
   "cell_type": "code",
   "execution_count": 20,
   "metadata": {},
   "outputs": [
    {
     "name": "stdout",
     "output_type": "stream",
     "text": [
      "Epoch 1/100\n",
      "96/96 [==============================] - 9s 88ms/step - loss: 7473.9106 - root_mean_squared_error: 86.4518\n",
      "Epoch 2/100\n",
      "96/96 [==============================] - 9s 92ms/step - loss: 5846.5044 - root_mean_squared_error: 76.4624\n",
      "Epoch 3/100\n",
      "96/96 [==============================] - 9s 95ms/step - loss: 4775.8892 - root_mean_squared_error: 69.1078\n",
      "Epoch 4/100\n",
      "96/96 [==============================] - 9s 94ms/step - loss: 3943.8169 - root_mean_squared_error: 62.7998\n",
      "Epoch 5/100\n",
      "96/96 [==============================] - 9s 93ms/step - loss: 3296.9919 - root_mean_squared_error: 57.4194\n",
      "Epoch 6/100\n",
      "96/96 [==============================] - 9s 90ms/step - loss: 2793.6538 - root_mean_squared_error: 52.8550\n",
      "Epoch 7/100\n",
      "96/96 [==============================] - 8s 87ms/step - loss: 2400.9766 - root_mean_squared_error: 48.9998\n",
      "Epoch 8/100\n",
      "96/96 [==============================] - 8s 88ms/step - loss: 2087.6799 - root_mean_squared_error: 45.6911\n",
      "Epoch 9/100\n",
      "96/96 [==============================] - 8s 85ms/step - loss: 1828.3025 - root_mean_squared_error: 42.7587\n",
      "Epoch 10/100\n",
      "96/96 [==============================] - 9s 90ms/step - loss: 1633.8713 - root_mean_squared_error: 40.4212\n",
      "Epoch 11/100\n",
      "96/96 [==============================] - 9s 91ms/step - loss: 1490.4033 - root_mean_squared_error: 38.6057\n",
      "Epoch 12/100\n",
      "96/96 [==============================] - 9s 90ms/step - loss: 1385.3142 - root_mean_squared_error: 37.2198\n",
      "Epoch 13/100\n",
      "96/96 [==============================] - 9s 95ms/step - loss: 1309.8533 - root_mean_squared_error: 36.1919\n",
      "Epoch 14/100\n",
      "96/96 [==============================] - 9s 91ms/step - loss: 1250.9326 - root_mean_squared_error: 35.3685\n",
      "Epoch 15/100\n",
      "96/96 [==============================] - 8s 83ms/step - loss: 1214.2180 - root_mean_squared_error: 34.8456\n",
      "Epoch 16/100\n",
      "96/96 [==============================] - 8s 84ms/step - loss: 1183.6918 - root_mean_squared_error: 34.4048\n",
      "Epoch 17/100\n",
      "96/96 [==============================] - 8s 88ms/step - loss: 1161.9421 - root_mean_squared_error: 34.0873\n",
      "Epoch 18/100\n",
      "96/96 [==============================] - 9s 92ms/step - loss: 1137.0883 - root_mean_squared_error: 33.7207\n",
      "Epoch 19/100\n",
      "96/96 [==============================] - 9s 95ms/step - loss: 1125.7263 - root_mean_squared_error: 33.5518\n",
      "Epoch 20/100\n",
      "96/96 [==============================] - 9s 94ms/step - loss: 1120.1849 - root_mean_squared_error: 33.4692\n",
      "Epoch 21/100\n",
      "96/96 [==============================] - 8s 83ms/step - loss: 1086.2599 - root_mean_squared_error: 32.9585\n",
      "Epoch 22/100\n",
      "96/96 [==============================] - 8s 80ms/step - loss: 1055.6721 - root_mean_squared_error: 32.4911\n",
      "Epoch 23/100\n",
      "96/96 [==============================] - 8s 82ms/step - loss: 1023.8691 - root_mean_squared_error: 31.9980\n",
      "Epoch 24/100\n",
      "96/96 [==============================] - 8s 86ms/step - loss: 988.5465 - root_mean_squared_error: 31.4412\n",
      "Epoch 25/100\n",
      "96/96 [==============================] - 9s 89ms/step - loss: 943.0135 - root_mean_squared_error: 30.7085\n",
      "Epoch 26/100\n",
      "96/96 [==============================] - 8s 88ms/step - loss: 878.1148 - root_mean_squared_error: 29.6330\n",
      "Epoch 27/100\n",
      "96/96 [==============================] - 8s 83ms/step - loss: 806.4791 - root_mean_squared_error: 28.3986\n",
      "Epoch 28/100\n",
      "96/96 [==============================] - 8s 82ms/step - loss: 735.9031 - root_mean_squared_error: 27.1275\n",
      "Epoch 29/100\n",
      "96/96 [==============================] - 8s 81ms/step - loss: 685.3786 - root_mean_squared_error: 26.1797\n",
      "Epoch 30/100\n",
      "96/96 [==============================] - 9s 89ms/step - loss: 626.0240 - root_mean_squared_error: 25.0205\n",
      "Epoch 31/100\n",
      "96/96 [==============================] - 9s 93ms/step - loss: 587.7043 - root_mean_squared_error: 24.2426\n",
      "Epoch 32/100\n",
      "96/96 [==============================] - 9s 90ms/step - loss: 560.9296 - root_mean_squared_error: 23.6840\n",
      "Epoch 33/100\n",
      "96/96 [==============================] - 8s 82ms/step - loss: 530.4730 - root_mean_squared_error: 23.0320\n",
      "Epoch 34/100\n",
      "96/96 [==============================] - 8s 80ms/step - loss: 510.2153 - root_mean_squared_error: 22.5879\n",
      "Epoch 35/100\n",
      "96/96 [==============================] - 8s 81ms/step - loss: 491.3736 - root_mean_squared_error: 22.1669\n",
      "Epoch 36/100\n",
      "96/96 [==============================] - 9s 92ms/step - loss: 479.2824 - root_mean_squared_error: 21.8925\n",
      "Epoch 37/100\n",
      "96/96 [==============================] - 10s 101ms/step - loss: 470.6868 - root_mean_squared_error: 21.6953\n",
      "Epoch 38/100\n",
      "96/96 [==============================] - 9s 95ms/step - loss: 459.9539 - root_mean_squared_error: 21.4465\n",
      "Epoch 39/100\n",
      "96/96 [==============================] - 8s 85ms/step - loss: 451.5490 - root_mean_squared_error: 21.2497\n",
      "Epoch 40/100\n",
      "96/96 [==============================] - 8s 84ms/step - loss: 439.6867 - root_mean_squared_error: 20.9687\n",
      "Epoch 41/100\n",
      "96/96 [==============================] - 8s 80ms/step - loss: 433.8216 - root_mean_squared_error: 20.8284\n",
      "Epoch 42/100\n",
      "96/96 [==============================] - 8s 87ms/step - loss: 427.2791 - root_mean_squared_error: 20.6707\n",
      "Epoch 43/100\n",
      "96/96 [==============================] - 8s 85ms/step - loss: 427.8858 - root_mean_squared_error: 20.6854\n",
      "Epoch 44/100\n",
      "96/96 [==============================] - 8s 84ms/step - loss: 417.6795 - root_mean_squared_error: 20.4372\n",
      "Epoch 45/100\n",
      "96/96 [==============================] - 8s 80ms/step - loss: 418.8224 - root_mean_squared_error: 20.4652\n",
      "Epoch 46/100\n",
      "96/96 [==============================] - 8s 80ms/step - loss: 404.8982 - root_mean_squared_error: 20.1221\n",
      "Epoch 47/100\n",
      "96/96 [==============================] - 8s 85ms/step - loss: 400.6574 - root_mean_squared_error: 20.0164\n",
      "Epoch 48/100\n",
      "96/96 [==============================] - 8s 88ms/step - loss: 400.3976 - root_mean_squared_error: 20.0099\n",
      "Epoch 49/100\n",
      "96/96 [==============================] - 8s 86ms/step - loss: 402.1665 - root_mean_squared_error: 20.0541\n",
      "Epoch 50/100\n",
      "96/96 [==============================] - 8s 82ms/step - loss: 395.9938 - root_mean_squared_error: 19.8996\n",
      "Epoch 51/100\n",
      "96/96 [==============================] - 9s 93ms/step - loss: 394.1738 - root_mean_squared_error: 19.8538\n",
      "Epoch 52/100\n",
      "96/96 [==============================] - 9s 89ms/step - loss: 386.9184 - root_mean_squared_error: 19.6702\n",
      "Epoch 53/100\n",
      "96/96 [==============================] - 9s 91ms/step - loss: 387.3381 - root_mean_squared_error: 19.6809\n",
      "Epoch 54/100\n",
      "96/96 [==============================] - 8s 85ms/step - loss: 385.7514 - root_mean_squared_error: 19.6406\n",
      "Epoch 55/100\n",
      "96/96 [==============================] - 8s 87ms/step - loss: 382.9263 - root_mean_squared_error: 19.5685\n",
      "Epoch 56/100\n",
      "96/96 [==============================] - 9s 91ms/step - loss: 377.7441 - root_mean_squared_error: 19.4356\n",
      "Epoch 57/100\n",
      "96/96 [==============================] - 8s 87ms/step - loss: 379.5895 - root_mean_squared_error: 19.4831\n",
      "Epoch 58/100\n",
      "96/96 [==============================] - 8s 83ms/step - loss: 376.5638 - root_mean_squared_error: 19.4053\n",
      "Epoch 59/100\n",
      "96/96 [==============================] - 8s 88ms/step - loss: 368.6652 - root_mean_squared_error: 19.2007\n",
      "Epoch 60/100\n",
      "96/96 [==============================] - 8s 88ms/step - loss: 370.7446 - root_mean_squared_error: 19.2547\n",
      "Epoch 61/100\n",
      "96/96 [==============================] - 9s 89ms/step - loss: 362.5432 - root_mean_squared_error: 19.0406\n",
      "Epoch 62/100\n",
      "96/96 [==============================] - 8s 87ms/step - loss: 367.5496 - root_mean_squared_error: 19.1716\n",
      "Epoch 63/100\n",
      "96/96 [==============================] - 9s 89ms/step - loss: 361.5388 - root_mean_squared_error: 19.0142\n",
      "Epoch 64/100\n",
      "96/96 [==============================] - 8s 88ms/step - loss: 362.2781 - root_mean_squared_error: 19.0336\n",
      "Epoch 65/100\n",
      "96/96 [==============================] - 9s 89ms/step - loss: 358.6383 - root_mean_squared_error: 18.9377\n",
      "Epoch 66/100\n",
      "96/96 [==============================] - 9s 91ms/step - loss: 354.1212 - root_mean_squared_error: 18.8181\n",
      "Epoch 67/100\n",
      "96/96 [==============================] - 9s 90ms/step - loss: 358.7150 - root_mean_squared_error: 18.9398\n",
      "Epoch 68/100\n",
      "96/96 [==============================] - 8s 86ms/step - loss: 354.1026 - root_mean_squared_error: 18.8176\n",
      "Epoch 69/100\n",
      "96/96 [==============================] - 8s 85ms/step - loss: 347.9733 - root_mean_squared_error: 18.6540\n",
      "Epoch 70/100\n",
      "96/96 [==============================] - 8s 89ms/step - loss: 367.8287 - root_mean_squared_error: 19.1789\n",
      "Epoch 71/100\n",
      "96/96 [==============================] - 8s 84ms/step - loss: 362.0085 - root_mean_squared_error: 19.0265\n",
      "Epoch 72/100\n",
      "96/96 [==============================] - 8s 81ms/step - loss: 347.1540 - root_mean_squared_error: 18.6321\n",
      "Epoch 73/100\n",
      "96/96 [==============================] - 8s 80ms/step - loss: 344.4033 - root_mean_squared_error: 18.5581\n",
      "Epoch 74/100\n",
      "96/96 [==============================] - 8s 81ms/step - loss: 345.7338 - root_mean_squared_error: 18.5939\n",
      "Epoch 75/100\n",
      "96/96 [==============================] - 8s 84ms/step - loss: 351.5372 - root_mean_squared_error: 18.7493\n",
      "Epoch 76/100\n",
      "96/96 [==============================] - 8s 81ms/step - loss: 341.9622 - root_mean_squared_error: 18.4922\n",
      "Epoch 77/100\n",
      "96/96 [==============================] - 8s 82ms/step - loss: 340.3941 - root_mean_squared_error: 18.4498\n",
      "Epoch 78/100\n",
      "96/96 [==============================] - 8s 86ms/step - loss: 336.9677 - root_mean_squared_error: 18.3567\n",
      "Epoch 79/100\n",
      "96/96 [==============================] - 8s 82ms/step - loss: 342.4889 - root_mean_squared_error: 18.5065\n",
      "Epoch 80/100\n",
      "96/96 [==============================] - 8s 81ms/step - loss: 335.4066 - root_mean_squared_error: 18.3141\n",
      "Epoch 81/100\n",
      "96/96 [==============================] - 8s 82ms/step - loss: 338.2007 - root_mean_squared_error: 18.3902\n",
      "Epoch 82/100\n",
      "96/96 [==============================] - 8s 83ms/step - loss: 339.8870 - root_mean_squared_error: 18.4360\n",
      "Epoch 83/100\n",
      "96/96 [==============================] - 8s 81ms/step - loss: 331.7690 - root_mean_squared_error: 18.2145\n",
      "Epoch 84/100\n",
      "96/96 [==============================] - 8s 81ms/step - loss: 333.7418 - root_mean_squared_error: 18.2686\n",
      "Epoch 85/100\n",
      "96/96 [==============================] - 8s 81ms/step - loss: 334.0564 - root_mean_squared_error: 18.2772\n",
      "Epoch 86/100\n",
      "96/96 [==============================] - 8s 81ms/step - loss: 331.6639 - root_mean_squared_error: 18.2116\n",
      "Epoch 87/100\n",
      "96/96 [==============================] - 8s 81ms/step - loss: 327.2325 - root_mean_squared_error: 18.0896\n",
      "Epoch 88/100\n",
      "96/96 [==============================] - 8s 82ms/step - loss: 333.0038 - root_mean_squared_error: 18.2484\n",
      "Epoch 89/100\n",
      "96/96 [==============================] - 8s 82ms/step - loss: 330.7206 - root_mean_squared_error: 18.1857\n",
      "Epoch 90/100\n",
      "96/96 [==============================] - 8s 86ms/step - loss: 339.7306 - root_mean_squared_error: 18.4318\n",
      "Epoch 91/100\n",
      "96/96 [==============================] - 8s 83ms/step - loss: 329.9197 - root_mean_squared_error: 18.1637\n",
      "Epoch 92/100\n",
      "96/96 [==============================] - 8s 81ms/step - loss: 322.6662 - root_mean_squared_error: 17.9629\n",
      "Epoch 93/100\n",
      "96/96 [==============================] - 8s 81ms/step - loss: 329.5611 - root_mean_squared_error: 18.1538\n",
      "Epoch 94/100\n",
      "96/96 [==============================] - 8s 81ms/step - loss: 323.7313 - root_mean_squared_error: 17.9925\n",
      "Epoch 95/100\n",
      "96/96 [==============================] - 8s 81ms/step - loss: 326.4655 - root_mean_squared_error: 18.0684\n",
      "Epoch 96/100\n",
      "96/96 [==============================] - 8s 81ms/step - loss: 325.0751 - root_mean_squared_error: 18.0298\n",
      "Epoch 97/100\n",
      "96/96 [==============================] - 8s 82ms/step - loss: 320.1749 - root_mean_squared_error: 17.8934\n",
      "Epoch 98/100\n",
      "96/96 [==============================] - 8s 81ms/step - loss: 322.7206 - root_mean_squared_error: 17.9644\n",
      "Epoch 99/100\n",
      "96/96 [==============================] - 8s 81ms/step - loss: 320.4554 - root_mean_squared_error: 17.9013\n",
      "Epoch 100/100\n",
      "96/96 [==============================] - 8s 81ms/step - loss: 322.2761 - root_mean_squared_error: 17.9520\n"
     ]
    },
    {
     "data": {
      "text/plain": [
       "<keras.callbacks.History at 0x183785ebfd0>"
      ]
     },
     "execution_count": 20,
     "metadata": {},
     "output_type": "execute_result"
    }
   ],
   "source": [
    "epochs = 100 # training epochs\n",
    "optimizer = Adam(learning_rate=1e-3) # model optimizer\n",
    "\n",
    "X_train = proc_dataset[\"train\"][\"X\"]\n",
    "y_train = proc_dataset[\"train\"][\"y\"]\n",
    "DCNN = create_model(window_size=dataset[\"window_size\"], feature_dim=14, kernel_size=(10, 1), filter_num=10, dropout_rate=0.5)\n",
    "DCNN.compile(optimizer=optimizer, loss=MeanSquaredError(), metrics=[RootMeanSquaredError()])\n",
    "DCNN.fit(x=X_train, y=y_train, batch_size = 512, epochs = epochs)"
   ]
  },
  {
   "cell_type": "markdown",
   "metadata": {},
   "source": [
    "# train a quantile estimator for CQR"
   ]
  },
  {
   "cell_type": "code",
   "execution_count": 21,
   "metadata": {},
   "outputs": [
    {
     "name": "stdout",
     "output_type": "stream",
     "text": [
      "Epoch 1/100\n",
      "96/96 [==============================] - 8s 81ms/step - loss: 62.2284 - q0_loss: 15.0178 - q1_loss: 47.2106 - q0_root_mean_squared_error: 79.9888 - q1_root_mean_squared_error: 70.0433\n",
      "Epoch 2/100\n",
      "96/96 [==============================] - 8s 86ms/step - loss: 41.7688 - q0_loss: 13.6411 - q1_loss: 28.1277 - q0_root_mean_squared_error: 64.0579 - q1_root_mean_squared_error: 46.9751\n",
      "Epoch 3/100\n",
      "96/96 [==============================] - 8s 84ms/step - loss: 32.2680 - q0_loss: 13.2088 - q1_loss: 19.0592 - q0_root_mean_squared_error: 60.6115 - q1_root_mean_squared_error: 39.9652\n",
      "Epoch 4/100\n",
      "96/96 [==============================] - 8s 79ms/step - loss: 25.8703 - q0_loss: 12.7979 - q1_loss: 13.0724 - q0_root_mean_squared_error: 57.4530 - q1_root_mean_squared_error: 39.2998\n",
      "Epoch 5/100\n",
      "96/96 [==============================] - 7s 72ms/step - loss: 21.3334 - q0_loss: 12.4632 - q1_loss: 8.8702 - q0_root_mean_squared_error: 55.0711 - q1_root_mean_squared_error: 41.8753\n",
      "Epoch 6/100\n",
      "96/96 [==============================] - 7s 76ms/step - loss: 18.0158 - q0_loss: 11.9024 - q1_loss: 6.1134 - q0_root_mean_squared_error: 52.2222 - q1_root_mean_squared_error: 43.5469\n",
      "Epoch 7/100\n",
      "96/96 [==============================] - 8s 80ms/step - loss: 17.4556 - q0_loss: 11.6516 - q1_loss: 5.8041 - q0_root_mean_squared_error: 49.8140 - q1_root_mean_squared_error: 42.9626\n",
      "Epoch 8/100\n",
      "96/96 [==============================] - 8s 81ms/step - loss: 17.2380 - q0_loss: 11.4937 - q1_loss: 5.7443 - q0_root_mean_squared_error: 48.3993 - q1_root_mean_squared_error: 42.2916\n",
      "Epoch 9/100\n",
      "96/96 [==============================] - 8s 81ms/step - loss: 17.1981 - q0_loss: 11.4646 - q1_loss: 5.7335 - q0_root_mean_squared_error: 48.0650 - q1_root_mean_squared_error: 42.1864\n",
      "Epoch 10/100\n",
      "96/96 [==============================] - 8s 82ms/step - loss: 17.0258 - q0_loss: 11.3680 - q1_loss: 5.6579 - q0_root_mean_squared_error: 47.1597 - q1_root_mean_squared_error: 41.8724\n",
      "Epoch 11/100\n",
      "96/96 [==============================] - 8s 82ms/step - loss: 16.9758 - q0_loss: 11.3206 - q1_loss: 5.6552 - q0_root_mean_squared_error: 46.5922 - q1_root_mean_squared_error: 41.6165\n",
      "Epoch 12/100\n",
      "96/96 [==============================] - 8s 82ms/step - loss: 16.9324 - q0_loss: 11.3052 - q1_loss: 5.6272 - q0_root_mean_squared_error: 46.7760 - q1_root_mean_squared_error: 41.5772\n",
      "Epoch 13/100\n",
      "96/96 [==============================] - 8s 83ms/step - loss: 16.9035 - q0_loss: 11.2593 - q1_loss: 5.6442 - q0_root_mean_squared_error: 46.5895 - q1_root_mean_squared_error: 41.3911\n",
      "Epoch 14/100\n",
      "96/96 [==============================] - 8s 82ms/step - loss: 16.8439 - q0_loss: 11.2538 - q1_loss: 5.5901 - q0_root_mean_squared_error: 46.1486 - q1_root_mean_squared_error: 41.4146\n",
      "Epoch 15/100\n",
      "96/96 [==============================] - 8s 82ms/step - loss: 16.7893 - q0_loss: 11.2013 - q1_loss: 5.5880 - q0_root_mean_squared_error: 46.1326 - q1_root_mean_squared_error: 41.2023\n",
      "Epoch 16/100\n",
      "96/96 [==============================] - 8s 82ms/step - loss: 16.6616 - q0_loss: 11.1325 - q1_loss: 5.5291 - q0_root_mean_squared_error: 45.3658 - q1_root_mean_squared_error: 40.8681\n",
      "Epoch 17/100\n",
      "96/96 [==============================] - 8s 82ms/step - loss: 16.6626 - q0_loss: 11.1105 - q1_loss: 5.5521 - q0_root_mean_squared_error: 45.5245 - q1_root_mean_squared_error: 40.8088\n",
      "Epoch 18/100\n",
      "96/96 [==============================] - 8s 81ms/step - loss: 16.6554 - q0_loss: 11.1292 - q1_loss: 5.5262 - q0_root_mean_squared_error: 45.5341 - q1_root_mean_squared_error: 40.9517\n",
      "Epoch 19/100\n",
      "96/96 [==============================] - 8s 81ms/step - loss: 16.6220 - q0_loss: 11.0917 - q1_loss: 5.5303 - q0_root_mean_squared_error: 45.2752 - q1_root_mean_squared_error: 40.7485\n",
      "Epoch 20/100\n",
      "96/96 [==============================] - 8s 82ms/step - loss: 16.5355 - q0_loss: 11.0500 - q1_loss: 5.4855 - q0_root_mean_squared_error: 44.9968 - q1_root_mean_squared_error: 40.5012\n",
      "Epoch 21/100\n",
      "96/96 [==============================] - 8s 81ms/step - loss: 16.6019 - q0_loss: 11.0658 - q1_loss: 5.5361 - q0_root_mean_squared_error: 44.9385 - q1_root_mean_squared_error: 40.6724\n",
      "Epoch 22/100\n",
      "96/96 [==============================] - 8s 81ms/step - loss: 16.4491 - q0_loss: 10.9947 - q1_loss: 5.4544 - q0_root_mean_squared_error: 44.4922 - q1_root_mean_squared_error: 40.3211\n",
      "Epoch 23/100\n",
      "96/96 [==============================] - 8s 81ms/step - loss: 16.5561 - q0_loss: 11.0147 - q1_loss: 5.5414 - q0_root_mean_squared_error: 44.7262 - q1_root_mean_squared_error: 40.4344\n",
      "Epoch 24/100\n",
      "96/96 [==============================] - 8s 81ms/step - loss: 16.5957 - q0_loss: 11.0828 - q1_loss: 5.5128 - q0_root_mean_squared_error: 45.1179 - q1_root_mean_squared_error: 40.8665\n",
      "Epoch 25/100\n",
      "96/96 [==============================] - 8s 81ms/step - loss: 16.3716 - q0_loss: 10.9469 - q1_loss: 5.4247 - q0_root_mean_squared_error: 44.6688 - q1_root_mean_squared_error: 40.1431\n",
      "Epoch 26/100\n",
      "96/96 [==============================] - 8s 81ms/step - loss: 16.3605 - q0_loss: 10.9372 - q1_loss: 5.4233 - q0_root_mean_squared_error: 44.1633 - q1_root_mean_squared_error: 40.1473\n",
      "Epoch 27/100\n",
      "96/96 [==============================] - 8s 81ms/step - loss: 16.3169 - q0_loss: 10.8996 - q1_loss: 5.4173 - q0_root_mean_squared_error: 43.9467 - q1_root_mean_squared_error: 40.0315\n",
      "Epoch 28/100\n",
      "96/96 [==============================] - 8s 81ms/step - loss: 16.4075 - q0_loss: 10.9508 - q1_loss: 5.4567 - q0_root_mean_squared_error: 44.3929 - q1_root_mean_squared_error: 40.1751\n",
      "Epoch 29/100\n",
      "96/96 [==============================] - 8s 84ms/step - loss: 16.2228 - q0_loss: 10.8573 - q1_loss: 5.3656 - q0_root_mean_squared_error: 43.8000 - q1_root_mean_squared_error: 39.7726\n",
      "Epoch 30/100\n",
      "96/96 [==============================] - 9s 90ms/step - loss: 16.2522 - q0_loss: 10.8549 - q1_loss: 5.3973 - q0_root_mean_squared_error: 43.8723 - q1_root_mean_squared_error: 39.8350\n",
      "Epoch 31/100\n",
      "96/96 [==============================] - 9s 96ms/step - loss: 16.1996 - q0_loss: 10.8332 - q1_loss: 5.3663 - q0_root_mean_squared_error: 43.7605 - q1_root_mean_squared_error: 39.7829\n",
      "Epoch 32/100\n",
      "96/96 [==============================] - 8s 88ms/step - loss: 16.2012 - q0_loss: 10.8121 - q1_loss: 5.3891 - q0_root_mean_squared_error: 43.4977 - q1_root_mean_squared_error: 39.7300\n",
      "Epoch 33/100\n",
      "96/96 [==============================] - 8s 87ms/step - loss: 16.1632 - q0_loss: 10.7803 - q1_loss: 5.3829 - q0_root_mean_squared_error: 43.3648 - q1_root_mean_squared_error: 39.6408\n",
      "Epoch 34/100\n",
      "96/96 [==============================] - 8s 85ms/step - loss: 16.1048 - q0_loss: 10.7046 - q1_loss: 5.4002 - q0_root_mean_squared_error: 43.5527 - q1_root_mean_squared_error: 39.3743\n",
      "Epoch 35/100\n",
      "96/96 [==============================] - 9s 94ms/step - loss: 16.0185 - q0_loss: 10.6413 - q1_loss: 5.3772 - q0_root_mean_squared_error: 43.0767 - q1_root_mean_squared_error: 39.1843\n",
      "Epoch 36/100\n",
      "96/96 [==============================] - 9s 91ms/step - loss: 16.0101 - q0_loss: 10.6012 - q1_loss: 5.4089 - q0_root_mean_squared_error: 42.5847 - q1_root_mean_squared_error: 39.0566\n",
      "Epoch 37/100\n",
      "96/96 [==============================] - 8s 88ms/step - loss: 15.9329 - q0_loss: 10.5065 - q1_loss: 5.4264 - q0_root_mean_squared_error: 42.2705 - q1_root_mean_squared_error: 38.8823\n",
      "Epoch 38/100\n",
      "96/96 [==============================] - 8s 87ms/step - loss: 16.0000 - q0_loss: 10.4885 - q1_loss: 5.5115 - q0_root_mean_squared_error: 42.7596 - q1_root_mean_squared_error: 39.0439\n",
      "Epoch 39/100\n",
      "96/96 [==============================] - 8s 86ms/step - loss: 15.7524 - q0_loss: 10.3402 - q1_loss: 5.4121 - q0_root_mean_squared_error: 41.6852 - q1_root_mean_squared_error: 38.4351\n",
      "Epoch 40/100\n",
      "96/96 [==============================] - 8s 83ms/step - loss: 15.6815 - q0_loss: 10.2397 - q1_loss: 5.4418 - q0_root_mean_squared_error: 41.4336 - q1_root_mean_squared_error: 38.5238\n",
      "Epoch 41/100\n",
      "96/96 [==============================] - 8s 87ms/step - loss: 15.5847 - q0_loss: 10.1123 - q1_loss: 5.4724 - q0_root_mean_squared_error: 40.9618 - q1_root_mean_squared_error: 38.1255\n",
      "Epoch 42/100\n",
      "96/96 [==============================] - 9s 95ms/step - loss: 15.4142 - q0_loss: 9.9565 - q1_loss: 5.4577 - q0_root_mean_squared_error: 40.6261 - q1_root_mean_squared_error: 37.9412\n",
      "Epoch 43/100\n",
      "96/96 [==============================] - 9s 89ms/step - loss: 15.2542 - q0_loss: 9.7808 - q1_loss: 5.4734 - q0_root_mean_squared_error: 40.3375 - q1_root_mean_squared_error: 37.6115\n",
      "Epoch 44/100\n",
      "96/96 [==============================] - 9s 89ms/step - loss: 15.1045 - q0_loss: 9.6362 - q1_loss: 5.4683 - q0_root_mean_squared_error: 39.6825 - q1_root_mean_squared_error: 37.3244\n",
      "Epoch 45/100\n",
      "96/96 [==============================] - 10s 101ms/step - loss: 14.8514 - q0_loss: 9.3759 - q1_loss: 5.4755 - q0_root_mean_squared_error: 38.9882 - q1_root_mean_squared_error: 36.8892\n",
      "Epoch 46/100\n",
      "96/96 [==============================] - 10s 101ms/step - loss: 14.6180 - q0_loss: 9.1542 - q1_loss: 5.4637 - q0_root_mean_squared_error: 38.3206 - q1_root_mean_squared_error: 36.5211\n",
      "Epoch 47/100\n",
      "96/96 [==============================] - 8s 88ms/step - loss: 14.3370 - q0_loss: 8.9225 - q1_loss: 5.4145 - q0_root_mean_squared_error: 37.3078 - q1_root_mean_squared_error: 36.0089\n",
      "Epoch 48/100\n",
      "96/96 [==============================] - 8s 85ms/step - loss: 14.0886 - q0_loss: 8.7022 - q1_loss: 5.3864 - q0_root_mean_squared_error: 36.9300 - q1_root_mean_squared_error: 35.5682\n",
      "Epoch 49/100\n",
      "96/96 [==============================] - 8s 88ms/step - loss: 13.8578 - q0_loss: 8.5111 - q1_loss: 5.3468 - q0_root_mean_squared_error: 36.1578 - q1_root_mean_squared_error: 35.5107\n",
      "Epoch 50/100\n",
      "96/96 [==============================] - 8s 87ms/step - loss: 13.5570 - q0_loss: 8.2844 - q1_loss: 5.2725 - q0_root_mean_squared_error: 35.2697 - q1_root_mean_squared_error: 34.9275\n",
      "Epoch 51/100\n",
      "96/96 [==============================] - 8s 86ms/step - loss: 13.4933 - q0_loss: 8.2164 - q1_loss: 5.2768 - q0_root_mean_squared_error: 35.2916 - q1_root_mean_squared_error: 34.9529\n",
      "Epoch 52/100\n",
      "96/96 [==============================] - 8s 86ms/step - loss: 13.0733 - q0_loss: 7.9407 - q1_loss: 5.1325 - q0_root_mean_squared_error: 34.2912 - q1_root_mean_squared_error: 34.1833\n",
      "Epoch 53/100\n",
      "96/96 [==============================] - 9s 89ms/step - loss: 12.7940 - q0_loss: 7.7670 - q1_loss: 5.0270 - q0_root_mean_squared_error: 33.6481 - q1_root_mean_squared_error: 33.6800\n",
      "Epoch 54/100\n",
      "96/96 [==============================] - 10s 99ms/step - loss: 12.6427 - q0_loss: 7.6522 - q1_loss: 4.9906 - q0_root_mean_squared_error: 33.1121 - q1_root_mean_squared_error: 33.5304\n",
      "Epoch 55/100\n",
      "96/96 [==============================] - 9s 92ms/step - loss: 12.4204 - q0_loss: 7.5096 - q1_loss: 4.9108 - q0_root_mean_squared_error: 32.7133 - q1_root_mean_squared_error: 33.0109\n",
      "Epoch 56/100\n",
      "96/96 [==============================] - 8s 88ms/step - loss: 12.1497 - q0_loss: 7.3438 - q1_loss: 4.8059 - q0_root_mean_squared_error: 32.0227 - q1_root_mean_squared_error: 32.4348\n",
      "Epoch 57/100\n",
      "96/96 [==============================] - 9s 89ms/step - loss: 11.9966 - q0_loss: 7.2236 - q1_loss: 4.7731 - q0_root_mean_squared_error: 31.6450 - q1_root_mean_squared_error: 32.0905\n",
      "Epoch 58/100\n",
      "96/96 [==============================] - 8s 86ms/step - loss: 11.7357 - q0_loss: 7.0793 - q1_loss: 4.6563 - q0_root_mean_squared_error: 30.8434 - q1_root_mean_squared_error: 31.2698\n",
      "Epoch 59/100\n",
      "96/96 [==============================] - 8s 86ms/step - loss: 11.5513 - q0_loss: 6.9316 - q1_loss: 4.6197 - q0_root_mean_squared_error: 30.5008 - q1_root_mean_squared_error: 30.8186\n",
      "Epoch 60/100\n",
      "96/96 [==============================] - 8s 86ms/step - loss: 11.4945 - q0_loss: 6.9035 - q1_loss: 4.5909 - q0_root_mean_squared_error: 30.5361 - q1_root_mean_squared_error: 30.7162\n",
      "Epoch 61/100\n",
      "96/96 [==============================] - 8s 86ms/step - loss: 11.3462 - q0_loss: 6.8239 - q1_loss: 4.5222 - q0_root_mean_squared_error: 30.0670 - q1_root_mean_squared_error: 30.4120\n",
      "Epoch 62/100\n",
      "96/96 [==============================] - 8s 86ms/step - loss: 11.1643 - q0_loss: 6.7040 - q1_loss: 4.4603 - q0_root_mean_squared_error: 29.6341 - q1_root_mean_squared_error: 29.9498\n",
      "Epoch 63/100\n",
      "96/96 [==============================] - 8s 87ms/step - loss: 11.1266 - q0_loss: 6.6875 - q1_loss: 4.4391 - q0_root_mean_squared_error: 29.6049 - q1_root_mean_squared_error: 29.9333\n",
      "Epoch 64/100\n",
      "96/96 [==============================] - 8s 88ms/step - loss: 11.0258 - q0_loss: 6.6371 - q1_loss: 4.3887 - q0_root_mean_squared_error: 29.5223 - q1_root_mean_squared_error: 29.5214\n",
      "Epoch 65/100\n",
      "96/96 [==============================] - 8s 85ms/step - loss: 10.9742 - q0_loss: 6.6104 - q1_loss: 4.3638 - q0_root_mean_squared_error: 29.1172 - q1_root_mean_squared_error: 29.2595\n",
      "Epoch 66/100\n",
      "96/96 [==============================] - 8s 85ms/step - loss: 10.9001 - q0_loss: 6.5577 - q1_loss: 4.3424 - q0_root_mean_squared_error: 28.9044 - q1_root_mean_squared_error: 29.4147\n",
      "Epoch 67/100\n",
      "96/96 [==============================] - 8s 88ms/step - loss: 10.7115 - q0_loss: 6.4334 - q1_loss: 4.2780 - q0_root_mean_squared_error: 28.7176 - q1_root_mean_squared_error: 28.9106\n",
      "Epoch 68/100\n",
      "96/96 [==============================] - 10s 108ms/step - loss: 10.6761 - q0_loss: 6.4197 - q1_loss: 4.2564 - q0_root_mean_squared_error: 28.4000 - q1_root_mean_squared_error: 28.8982\n",
      "Epoch 69/100\n",
      "96/96 [==============================] - 8s 85ms/step - loss: 10.5490 - q0_loss: 6.3261 - q1_loss: 4.2229 - q0_root_mean_squared_error: 28.4662 - q1_root_mean_squared_error: 28.5382\n",
      "Epoch 70/100\n",
      "96/96 [==============================] - 8s 87ms/step - loss: 10.5441 - q0_loss: 6.3179 - q1_loss: 4.2262 - q0_root_mean_squared_error: 28.4150 - q1_root_mean_squared_error: 28.3446\n",
      "Epoch 71/100\n",
      "96/96 [==============================] - 8s 86ms/step - loss: 10.3649 - q0_loss: 6.1997 - q1_loss: 4.1652 - q0_root_mean_squared_error: 27.8975 - q1_root_mean_squared_error: 28.3430\n",
      "Epoch 72/100\n",
      "96/96 [==============================] - 9s 89ms/step - loss: 10.3097 - q0_loss: 6.1831 - q1_loss: 4.1265 - q0_root_mean_squared_error: 27.9234 - q1_root_mean_squared_error: 27.9908\n",
      "Epoch 73/100\n",
      "96/96 [==============================] - 9s 97ms/step - loss: 10.2839 - q0_loss: 6.1571 - q1_loss: 4.1269 - q0_root_mean_squared_error: 27.8815 - q1_root_mean_squared_error: 27.8109\n",
      "Epoch 74/100\n",
      "96/96 [==============================] - 9s 91ms/step - loss: 10.2420 - q0_loss: 6.1417 - q1_loss: 4.1004 - q0_root_mean_squared_error: 27.9671 - q1_root_mean_squared_error: 27.8593\n",
      "Epoch 75/100\n",
      "96/96 [==============================] - 10s 100ms/step - loss: 10.1661 - q0_loss: 6.0794 - q1_loss: 4.0867 - q0_root_mean_squared_error: 27.9025 - q1_root_mean_squared_error: 27.7670\n",
      "Epoch 76/100\n",
      "96/96 [==============================] - 9s 90ms/step - loss: 10.0667 - q0_loss: 6.0242 - q1_loss: 4.0424 - q0_root_mean_squared_error: 27.5008 - q1_root_mean_squared_error: 27.5845\n",
      "Epoch 77/100\n",
      "96/96 [==============================] - 8s 88ms/step - loss: 10.0679 - q0_loss: 6.0460 - q1_loss: 4.0219 - q0_root_mean_squared_error: 27.6257 - q1_root_mean_squared_error: 27.5559\n",
      "Epoch 78/100\n",
      "96/96 [==============================] - 9s 89ms/step - loss: 10.0057 - q0_loss: 5.9986 - q1_loss: 4.0071 - q0_root_mean_squared_error: 27.6302 - q1_root_mean_squared_error: 27.4091\n",
      "Epoch 79/100\n",
      "96/96 [==============================] - 9s 89ms/step - loss: 9.8631 - q0_loss: 5.9145 - q1_loss: 3.9486 - q0_root_mean_squared_error: 27.2356 - q1_root_mean_squared_error: 27.0823\n",
      "Epoch 80/100\n",
      "96/96 [==============================] - 9s 93ms/step - loss: 9.8652 - q0_loss: 5.8845 - q1_loss: 3.9808 - q0_root_mean_squared_error: 27.0231 - q1_root_mean_squared_error: 27.2553\n",
      "Epoch 81/100\n",
      "96/96 [==============================] - 9s 94ms/step - loss: 9.8769 - q0_loss: 5.9058 - q1_loss: 3.9711 - q0_root_mean_squared_error: 27.4010 - q1_root_mean_squared_error: 27.2916\n",
      "Epoch 82/100\n",
      "96/96 [==============================] - 9s 92ms/step - loss: 9.9592 - q0_loss: 5.9599 - q1_loss: 3.9992 - q0_root_mean_squared_error: 27.6788 - q1_root_mean_squared_error: 27.2912\n",
      "Epoch 83/100\n",
      "96/96 [==============================] - 9s 91ms/step - loss: 9.7181 - q0_loss: 5.8378 - q1_loss: 3.8803 - q0_root_mean_squared_error: 27.0385 - q1_root_mean_squared_error: 26.8484\n",
      "Epoch 84/100\n",
      "96/96 [==============================] - 9s 91ms/step - loss: 9.7290 - q0_loss: 5.8242 - q1_loss: 3.9048 - q0_root_mean_squared_error: 27.1421 - q1_root_mean_squared_error: 26.9458\n",
      "Epoch 85/100\n",
      "96/96 [==============================] - 9s 94ms/step - loss: 9.7469 - q0_loss: 5.8278 - q1_loss: 3.9191 - q0_root_mean_squared_error: 26.9587 - q1_root_mean_squared_error: 27.0918\n",
      "Epoch 86/100\n",
      "96/96 [==============================] - 9s 92ms/step - loss: 9.6455 - q0_loss: 5.7658 - q1_loss: 3.8797 - q0_root_mean_squared_error: 26.9189 - q1_root_mean_squared_error: 26.7957\n",
      "Epoch 87/100\n",
      "96/96 [==============================] - 9s 93ms/step - loss: 9.5553 - q0_loss: 5.7139 - q1_loss: 3.8414 - q0_root_mean_squared_error: 26.6825 - q1_root_mean_squared_error: 26.4917\n",
      "Epoch 88/100\n",
      "96/96 [==============================] - 9s 93ms/step - loss: 9.5785 - q0_loss: 5.7383 - q1_loss: 3.8402 - q0_root_mean_squared_error: 26.7218 - q1_root_mean_squared_error: 26.5734\n",
      "Epoch 89/100\n",
      "96/96 [==============================] - 9s 90ms/step - loss: 9.5937 - q0_loss: 5.7428 - q1_loss: 3.8509 - q0_root_mean_squared_error: 27.0122 - q1_root_mean_squared_error: 26.6997\n",
      "Epoch 90/100\n",
      "96/96 [==============================] - 10s 99ms/step - loss: 9.4284 - q0_loss: 5.6178 - q1_loss: 3.8107 - q0_root_mean_squared_error: 26.5813 - q1_root_mean_squared_error: 26.2959\n",
      "Epoch 91/100\n",
      "96/96 [==============================] - 10s 102ms/step - loss: 9.5148 - q0_loss: 5.6803 - q1_loss: 3.8345 - q0_root_mean_squared_error: 26.5291 - q1_root_mean_squared_error: 26.5077\n",
      "Epoch 92/100\n",
      "96/96 [==============================] - 9s 95ms/step - loss: 9.5577 - q0_loss: 5.7215 - q1_loss: 3.8362 - q0_root_mean_squared_error: 26.8916 - q1_root_mean_squared_error: 26.5435\n",
      "Epoch 93/100\n",
      "96/96 [==============================] - 12s 120ms/step - loss: 9.4417 - q0_loss: 5.6357 - q1_loss: 3.8060 - q0_root_mean_squared_error: 26.4804 - q1_root_mean_squared_error: 26.5068\n",
      "Epoch 94/100\n",
      "96/96 [==============================] - 11s 112ms/step - loss: 9.4727 - q0_loss: 5.6550 - q1_loss: 3.8178 - q0_root_mean_squared_error: 26.6179 - q1_root_mean_squared_error: 26.4952\n",
      "Epoch 95/100\n",
      "96/96 [==============================] - 11s 116ms/step - loss: 9.3295 - q0_loss: 5.5766 - q1_loss: 3.7529 - q0_root_mean_squared_error: 26.2863 - q1_root_mean_squared_error: 26.2031\n",
      "Epoch 96/100\n",
      "96/96 [==============================] - 12s 121ms/step - loss: 9.2707 - q0_loss: 5.5269 - q1_loss: 3.7438 - q0_root_mean_squared_error: 26.2033 - q1_root_mean_squared_error: 25.9030\n",
      "Epoch 97/100\n",
      "96/96 [==============================] - 12s 120ms/step - loss: 9.2767 - q0_loss: 5.5450 - q1_loss: 3.7317 - q0_root_mean_squared_error: 26.0887 - q1_root_mean_squared_error: 26.1225\n",
      "Epoch 98/100\n",
      "96/96 [==============================] - 12s 120ms/step - loss: 9.2552 - q0_loss: 5.5206 - q1_loss: 3.7346 - q0_root_mean_squared_error: 26.1428 - q1_root_mean_squared_error: 26.0577\n",
      "Epoch 99/100\n",
      "96/96 [==============================] - 10s 105ms/step - loss: 9.2671 - q0_loss: 5.5291 - q1_loss: 3.7379 - q0_root_mean_squared_error: 26.0660 - q1_root_mean_squared_error: 25.9410\n",
      "Epoch 100/100\n",
      "96/96 [==============================] - 9s 96ms/step - loss: 9.1782 - q0_loss: 5.4807 - q1_loss: 3.6975 - q0_root_mean_squared_error: 25.8773 - q1_root_mean_squared_error: 25.8336\n"
     ]
    },
    {
     "data": {
      "text/plain": [
       "<keras.callbacks.History at 0x18379acd6c0>"
      ]
     },
     "execution_count": 21,
     "metadata": {},
     "output_type": "execute_result"
    }
   ],
   "source": [
    "alpha = 0.4\n",
    "epochs = 100\n",
    "quantiles = [alpha/2, 1 - alpha/2]\n",
    "loss_func = MultiQuantileLoss(quantiles=quantiles)\n",
    "\n",
    "MQDCNN = create_MQDCNN(quantiles=quantiles, window_size=dataset[\"window_size\"], feature_dim=14, kernel_size=(10, 1), filter_num=10, dropout_rate=0.5)\n",
    "MQDCNN.compile(optimizer=optimizer, loss=loss_func, metrics=[RootMeanSquaredError()])\n",
    "MQDCNN.fit(x=X_train, y=y_train, batch_size = 512, epochs = epochs)"
   ]
  },
  {
   "cell_type": "markdown",
   "metadata": {},
   "source": [
    "# Checking whether calibration works fine"
   ]
  },
  {
   "cell_type": "code",
   "execution_count": 26,
   "metadata": {},
   "outputs": [],
   "source": [
    "R = 50\n",
    "rho = 0.97\n",
    "alpha = 0.1\n",
    "SCP = [] #Split conformal prediction\n",
    "nex_SCP = [] #non-exchangeable Split conformal prediction\n",
    "CQR = [] #conformalized quantile regression\n",
    "\n",
    "\n",
    "for r in range(R):\n",
    "    val_idx, cal_idx = pre.split_by_group(X=proc_dataset[\"calval\"][\"X\"], groups=proc_dataset[\"calval\"][\"id\"], n_splits=1, test_size=0.5, random_state=r)\n",
    "    X_val, X_cal = proc_dataset[\"calval\"][\"X\"][val_idx], proc_dataset[\"calval\"][\"X\"][cal_idx]\n",
    "    y_val, y_cal = proc_dataset[\"calval\"][\"y\"][val_idx], proc_dataset[\"calval\"][\"y\"][cal_idx]\n",
    "    idx_val, idx_cal = proc_dataset[\"calval\"][\"index\"][val_idx], proc_dataset[\"calval\"][\"index\"][cal_idx]\n",
    "    id_val, id_cal = proc_dataset[\"calval\"][\"id\"][val_idx], proc_dataset[\"calval\"][\"id\"][cal_idx]\n",
    "\n",
    "    y_hat_cal = DCNN.predict(x=X_cal, verbose=0)\n",
    "    y_hat_val = DCNN.predict(x=X_val, verbose=0)\n",
    "    scores = np.abs(y_cal - y_hat_cal) \n",
    "    q = compute_quantile(scores, alpha)\n",
    "    q_array = compute_quantiles_nex(rho, scores, idx_val, idx_cal, alpha)\n",
    "    SCP.append(compute_coverage_len(y_val, y_hat_val-q, y_hat_val+q))\n",
    "    nex_SCP.append(compute_coverage_len(y_val, y_hat_val-q_array, y_hat_val+q_array))\n",
    "\n",
    "    y_hat_cal_CQR = MQDCNN.predict(x=X_cal, verbose=0)\n",
    "    y_hat_val_CQR = MQDCNN.predict(x=X_val, verbose=0)\n",
    "    scores_low = y_hat_cal_CQR[0] - y_cal\n",
    "    scores_high = y_cal - y_hat_cal_CQR[1] \n",
    "    scores_CQR = np.maximum(scores_low, scores_high)\n",
    "    q_CQR = compute_quantile(scores_CQR, alpha)\n",
    "    CQR.append(compute_coverage_len(y_val, y_hat_val_CQR[0] - q_CQR, y_hat_val_CQR[1] + q_CQR))\n",
    "    \n",
    "\n",
    "\n",
    "left_coverage_nex_SCP, coverage_nex_SCP, avg_length_nex_SCP =  zip(*nex_SCP)\n",
    "left_coverage_SCP, coverage_SCP, avg_length_SCP =  zip(*SCP)\n",
    "left_coverage_CQR, coverage_CQR, avg_length_CQR =  zip(*CQR)"
   ]
  },
  {
   "cell_type": "code",
   "execution_count": 27,
   "metadata": {},
   "outputs": [
    {
     "data": {
      "text/plain": [
       "(array([3., 8., 5., 7., 5., 5., 9., 2., 3., 3.]),\n",
       " array([49.253895, 52.63726 , 56.02063 , 59.404   , 62.787365, 66.17073 ,\n",
       "        69.5541  , 72.93747 , 76.32083 , 79.7042  , 83.08757 ],\n",
       "       dtype=float32),\n",
       " <BarContainer object of 10 artists>)"
      ]
     },
     "execution_count": 27,
     "metadata": {},
     "output_type": "execute_result"
    },
    {
     "data": {
      "image/png": "[encoded data removed]",
      "text/plain": [
       "<Figure size 432x288 with 1 Axes>"
      ]
     },
     "metadata": {
      "needs_background": "light"
     },
     "output_type": "display_data"
    }
   ],
   "source": [
    "plt.hist(avg_length_SCP)\n",
    "plt.hist(avg_length_nex_SCP)\n",
    "plt.hist(avg_length_CQR)"
   ]
  },
  {
   "cell_type": "code",
   "execution_count": 31,
   "metadata": {},
   "outputs": [
    {
     "name": "stdout",
     "output_type": "stream",
     "text": [
      "SCP: 74.75730895996094, nex-SCP: 73.32743072509766, CQR: 64.60408782958984 \n"
     ]
    }
   ],
   "source": [
    "print(f\"SCP: {np.mean(avg_length_SCP)}, nex-SCP: {np.mean(avg_length_nex_SCP)}, CQR: {np.mean(avg_length_CQR)} \")"
   ]
  },
  {
   "cell_type": "code",
   "execution_count": 32,
   "metadata": {},
   "outputs": [
    {
     "data": {
      "text/plain": [
       "(array([ 2.,  3.,  5.,  5.,  4.,  7.,  5., 10.,  2.,  7.]),\n",
       " array([0.82083805, 0.83485074, 0.84886342, 0.86287611, 0.8768888 ,\n",
       "        0.89090148, 0.90491417, 0.91892685, 0.93293954, 0.94695223,\n",
       "        0.96096491]),\n",
       " <BarContainer object of 10 artists>)"
      ]
     },
     "execution_count": 32,
     "metadata": {},
     "output_type": "execute_result"
    },
    {
     "data": {
      "image/png": "[encoded data removed]",
      "text/plain": [
       "<Figure size 432x288 with 1 Axes>"
      ]
     },
     "metadata": {
      "needs_background": "light"
     },
     "output_type": "display_data"
    }
   ],
   "source": [
    "plt.hist(coverage_SCP)\n",
    "plt.hist(coverage_nex_SCP)\n",
    "plt.hist(coverage_CQR)"
   ]
  },
  {
   "cell_type": "code",
   "execution_count": 33,
   "metadata": {},
   "outputs": [
    {
     "name": "stdout",
     "output_type": "stream",
     "text": [
      "SCP: 0.9010455514906913, nex-SCP: 0.9042541726679038, CQR: 0.9000897536424719 \n"
     ]
    }
   ],
   "source": [
    "print(f\"SCP: {np.mean(coverage_SCP)}, nex-SCP: {np.mean(coverage_nex_SCP)}, CQR: {np.mean(coverage_CQR)} \")"
   ]
  },
  {
   "cell_type": "code",
   "execution_count": 36,
   "metadata": {},
   "outputs": [
    {
     "data": {
      "text/plain": [
       "array([  0,   1,   2, ..., 264, 265, 266])"
      ]
     },
     "execution_count": 36,
     "metadata": {},
     "output_type": "execute_result"
    }
   ],
   "source": [
    "proc_dataset[\"test\"][\"index\"]"
   ]
  },
  {
   "cell_type": "markdown",
   "metadata": {},
   "source": [
    "# Now calibrate using calval data and test it on test  "
   ]
  },
  {
   "cell_type": "code",
   "execution_count": 154,
   "metadata": {},
   "outputs": [
    {
     "name": "stdout",
     "output_type": "stream",
     "text": [
      "(0.9294949923162524, 0.8796301202903927, 58.217422)\n",
      "(0.9333633617720312, 0.8855121615176726, 60.08143)\n",
      "(0.9120078427216364, 0.8778549096497271, 41.95526)\n"
     ]
    }
   ],
   "source": [
    "alpha = 0.15\n",
    "X_cal, y_cal, idx_cal = proc_dataset[\"calval\"][\"X\"], proc_dataset[\"calval\"][\"y\"], proc_dataset[\"calval\"][\"index\"]\n",
    "X_test, y_test, idx_test = proc_dataset[\"test\"][\"X\"], proc_dataset[\"test\"][\"y\"], proc_dataset[\"test\"][\"index\"]\n",
    "\n",
    "\n",
    "y_hat_cal = DCNN.predict(x=X_cal, verbose=0)\n",
    "y_hat_test = DCNN.predict(x=X_test, verbose=0)\n",
    "scores = np.abs(proc_dataset[\"test\"][\"y\"] - y_hat_calval) \n",
    "q = compute_quantile(scores, alpha)\n",
    "q_array = compute_quantiles_nex(0.9999, scores, proc_dataset2[\"test\"][\"index\"], proc_dataset[\"test\"][\"index\"])\n",
    "\n",
    "\n",
    "print(compute_coverage_len(proc_dataset2[\"test\"][\"y\"], y_hat_test - q, y_hat_test + q))\n",
    "print(compute_coverage_len(proc_dataset2[\"test\"][\"y\"], y_hat_test  - q_array, y_hat_test  + q_array))\n",
    "\n",
    "y_hat_cal_CQR = MQDCNN.predict(x=proc_dataset[\"test\"][\"X\"], verbose=0)\n",
    "y_hat_test_CQR = MQDCNN.predict(x=proc_dataset2[\"test\"][\"X\"], verbose=0)\n",
    "scores_low = y_hat_calval_CQR[0] - proc_dataset[\"test\"][\"y\"]\n",
    "scores_high = proc_dataset[\"test\"][\"y\"] - y_hat_calval_CQR[1] \n",
    "scores_CQR = np.maximum(scores_low, scores_high)\n",
    "q_CQR = compute_quantile(scores_CQR, alpha)\n",
    "\n",
    "print(compute_coverage_len(proc_dataset2[\"test\"][\"y\"], y_hat_test_CQR[0] - q_CQR, y_hat_test_CQR[1] + q_CQR))"
   ]
  },
  {
   "cell_type": "code",
   "execution_count": 155,
   "metadata": {},
   "outputs": [
    {
     "name": "stdout",
     "output_type": "stream",
     "text": [
      "(0.9120078427216364, 0.8778549096497271, 41.95526)\n"
     ]
    }
   ],
   "source": [
    "print(compute_coverage_len(proc_dataset2[\"test\"][\"y\"], y_hat_test_CQR[0] - q_CQR, y_hat_test_CQR[1] + q_CQR))"
   ]
  },
  {
   "cell_type": "code",
   "execution_count": null,
   "metadata": {},
   "outputs": [],
   "source": [
    "import matplotlib\n",
    "\n",
    "plt.hist(avg_length_SCP)\n",
    "plt.hist(avg_length_nex_SCP)\n",
    "plt.hist(avg_length_CQR)\n",
    "font = {'fontname':'Times New Roman'}\n",
    "matplotlib.rc('font', **font)\n",
    "plt.xlabel('average coverage')"
   ]
  },
  {
   "cell_type": "code",
   "execution_count": 166,
   "metadata": {},
   "outputs": [
    {
     "data": {
      "text/plain": [
       "<matplotlib.collections.PolyCollection at 0x15d24c24c70>"
      ]
     },
     "execution_count": 166,
     "metadata": {},
     "output_type": "execute_result"
    },
    {
     "data": {
      "image/png": "[encoded data removed]",
      "text/plain": [
       "<Figure size 432x288 with 1 Axes>"
      ]
     },
     "metadata": {
      "needs_background": "light"
     },
     "output_type": "display_data"
    }
   ],
   "source": [
    "y_low_CQR = y_hat_test_CQR[0] - q_CQR\n",
    "y_high_CQR = y_hat_test_CQR[1] + q_CQR\n",
    "plt.fill_between(range(len(y_hat_test_CQR[0])), y_low_CQR.reshape(-1), y_high_CQR.reshape(-1))"
   ]
  },
  {
   "cell_type": "code",
   "execution_count": 157,
   "metadata": {},
   "outputs": [
    {
     "data": {
      "text/plain": [
       "37742"
      ]
     },
     "execution_count": 157,
     "metadata": {},
     "output_type": "execute_result"
    }
   ],
   "source": [
    "len(y_hat_test_CQR[0])"
   ]
  },
  {
   "cell_type": "code",
   "execution_count": 164,
   "metadata": {},
   "outputs": [
    {
     "data": {
      "text/plain": [
       "(37742,)"
      ]
     },
     "execution_count": 164,
     "metadata": {},
     "output_type": "execute_result"
    }
   ],
   "source": [
    "y_hat_test_CQR[0].reshape(-1).shape"
   ]
  },
  {
   "cell_type": "code",
   "execution_count": 176,
   "metadata": {},
   "outputs": [
    {
     "data": {
      "text/plain": [
       "array([9457, 9458, 9459, 9460, 9461, 9462, 9463, 9464, 9465, 9466, 9467,\n",
       "       9468, 9469, 9470, 9471, 9472, 9473, 9474, 9475, 9476, 9477, 9478,\n",
       "       9479, 9480, 9481, 9482, 9483, 9484, 9485, 9486, 9487, 9488, 9489,\n",
       "       9490, 9491, 9492, 9493, 9494, 9495, 9496, 9497, 9498, 9499, 9500,\n",
       "       9501, 9502, 9503, 9504, 9505, 9506, 9507, 9508, 9509, 9510, 9511,\n",
       "       9512, 9513, 9514, 9515, 9516, 9517, 9518, 9519, 9520, 9521, 9522,\n",
       "       9523, 9524, 9525, 9526, 9527, 9528, 9529, 9530, 9531, 9532, 9533,\n",
       "       9534, 9535, 9536, 9537, 9538, 9539, 9540, 9541, 9542, 9543, 9544,\n",
       "       9545, 9546, 9547, 9548, 9549, 9550, 9551, 9552, 9553, 9554, 9555,\n",
       "       9556, 9557, 9558, 9559, 9560, 9561, 9562, 9563, 9564, 9565, 9566,\n",
       "       9567, 9568, 9569, 9570, 9571, 9572, 9573, 9574, 9575, 9576, 9577,\n",
       "       9578, 9579, 9580, 9581, 9582, 9583, 9584, 9585, 9586, 9587, 9588,\n",
       "       9589, 9590, 9591, 9592, 9593, 9594, 9595, 9596, 9597, 9598, 9599,\n",
       "       9600, 9601, 9602, 9603, 9604, 9605, 9606, 9607, 9608, 9609, 9610,\n",
       "       9611, 9612, 9613, 9614, 9615, 9616, 9617, 9618, 9619, 9620, 9621,\n",
       "       9622, 9623, 9624, 9625, 9626, 9627, 9628, 9629, 9630, 9631, 9632,\n",
       "       9633, 9634, 9635, 9636, 9637, 9638, 9639, 9640, 9641, 9642, 9643,\n",
       "       9644, 9645, 9646, 9647, 9648], dtype=int64)"
      ]
     },
     "execution_count": 176,
     "metadata": {},
     "output_type": "execute_result"
    }
   ],
   "source": [
    "proc_dataset2[\"test\"][\"index\"][proc_dataset2[\"test\"][\"id\"]==50]"
   ]
  },
  {
   "cell_type": "code",
   "execution_count": 2,
   "metadata": {},
   "outputs": [],
   "source": [
    "a = np.arange(50)"
   ]
  },
  {
   "cell_type": "code",
   "execution_count": 3,
   "metadata": {},
   "outputs": [
    {
     "data": {
      "text/plain": [
       "(50,)"
      ]
     },
     "execution_count": 3,
     "metadata": {},
     "output_type": "execute_result"
    }
   ],
   "source": [
    "a.shape"
   ]
  },
  {
   "cell_type": "code",
   "execution_count": 4,
   "metadata": {},
   "outputs": [],
   "source": [
    "b = np.arange(70)"
   ]
  },
  {
   "cell_type": "code",
   "execution_count": 8,
   "metadata": {},
   "outputs": [
    {
     "ename": "ValueError",
     "evalue": "all the input array dimensions for the concatenation axis must match exactly, but along dimension 1, the array at index 0 has size 50 and the array at index 1 has size 70",
     "output_type": "error",
     "traceback": [
      "\u001b[1;31m---------------------------------------------------------------------------\u001b[0m",
      "\u001b[1;31mValueError\u001b[0m                                Traceback (most recent call last)",
      "\u001b[1;32mc:\\Users\\Alireza\\Desktop\\projects\\Uncertainty quantification for RUL\\Uncertainty-quantification-for-remaining-useful-lifetime-estimation\\test.ipynb Cell 29\u001b[0m in \u001b[0;36m<cell line: 2>\u001b[1;34m()\u001b[0m\n\u001b[0;32m      <a href='vscode-notebook-cell:/c%3A/Users/Alireza/Desktop/projects/Uncertainty%20quantification%20for%20RUL/Uncertainty-quantification-for-remaining-useful-lifetime-estimation/test.ipynb#X40sZmlsZQ%3D%3D?line=0'>1</a>\u001b[0m c \u001b[39m=\u001b[39m [a,b]\n\u001b[1;32m----> <a href='vscode-notebook-cell:/c%3A/Users/Alireza/Desktop/projects/Uncertainty%20quantification%20for%20RUL/Uncertainty-quantification-for-remaining-useful-lifetime-estimation/test.ipynb#X40sZmlsZQ%3D%3D?line=1'>2</a>\u001b[0m d \u001b[39m=\u001b[39m np\u001b[39m.\u001b[39;49mvstack(c)\n",
      "File \u001b[1;32m<__array_function__ internals>:180\u001b[0m, in \u001b[0;36mvstack\u001b[1;34m(*args, **kwargs)\u001b[0m\n",
      "File \u001b[1;32mc:\\Users\\Alireza\\.conda\\envs\\rul_unc\\lib\\site-packages\\numpy\\core\\shape_base.py:282\u001b[0m, in \u001b[0;36mvstack\u001b[1;34m(tup)\u001b[0m\n\u001b[0;32m    280\u001b[0m \u001b[39mif\u001b[39;00m \u001b[39mnot\u001b[39;00m \u001b[39misinstance\u001b[39m(arrs, \u001b[39mlist\u001b[39m):\n\u001b[0;32m    281\u001b[0m     arrs \u001b[39m=\u001b[39m [arrs]\n\u001b[1;32m--> 282\u001b[0m \u001b[39mreturn\u001b[39;00m _nx\u001b[39m.\u001b[39;49mconcatenate(arrs, \u001b[39m0\u001b[39;49m)\n",
      "File \u001b[1;32m<__array_function__ internals>:180\u001b[0m, in \u001b[0;36mconcatenate\u001b[1;34m(*args, **kwargs)\u001b[0m\n",
      "\u001b[1;31mValueError\u001b[0m: all the input array dimensions for the concatenation axis must match exactly, but along dimension 1, the array at index 0 has size 50 and the array at index 1 has size 70"
     ]
    }
   ],
   "source": [
    "c = [a,b]\n",
    "d = np.vstack(c)"
   ]
  },
  {
   "cell_type": "code",
   "execution_count": 9,
   "metadata": {},
   "outputs": [
    {
     "data": {
      "text/plain": [
       "(120,)"
      ]
     },
     "execution_count": 9,
     "metadata": {},
     "output_type": "execute_result"
    }
   ],
   "source": [
    "d.shape"
   ]
  },
  {
   "cell_type": "code",
   "execution_count": null,
   "metadata": {},
   "outputs": [],
   "source": []
  }
 ],
 "metadata": {
  "kernelspec": {
   "display_name": "Python 3.10.5 ('rul_unc')",
   "language": "python",
   "name": "python3"
  },
  "language_info": {
   "codemirror_mode": {
    "name": "ipython",
    "version": 3
   },
   "file_extension": ".py",
   "mimetype": "text/x-python",
   "name": "python",
   "nbconvert_exporter": "python",
   "pygments_lexer": "ipython3",
   "version": "3.10.5"
  },
  "orig_nbformat": 4,
  "vscode": {
   "interpreter": {
    "hash": "1ed615bccc073c0a0281f121b591de3b0f9d3533c6b13e0905cf5e0bb75735d6"
   }
  }
 },
 "nbformat": 4,
 "nbformat_minor": 2
}
